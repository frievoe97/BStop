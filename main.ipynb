{
 "cells": [
  {
   "cell_type": "code",
   "execution_count": 1,
   "metadata": {},
   "outputs": [
    {
     "name": "stdout",
     "output_type": "stream",
     "text": [
      "Requirement already satisfied: openrouteservice in /Users/friedrich/opt/anaconda3/lib/python3.7/site-packages (2.3.0)\n",
      "Requirement already satisfied: requests>=2.0 in /Users/friedrich/opt/anaconda3/lib/python3.7/site-packages (from openrouteservice) (2.22.0)\n",
      "Requirement already satisfied: chardet<3.1.0,>=3.0.2 in /Users/friedrich/opt/anaconda3/lib/python3.7/site-packages (from requests>=2.0->openrouteservice) (3.0.4)\n",
      "Requirement already satisfied: certifi>=2017.4.17 in /Users/friedrich/opt/anaconda3/lib/python3.7/site-packages (from requests>=2.0->openrouteservice) (2019.11.28)\n",
      "Requirement already satisfied: urllib3!=1.25.0,!=1.25.1,<1.26,>=1.21.1 in /Users/friedrich/opt/anaconda3/lib/python3.7/site-packages (from requests>=2.0->openrouteservice) (1.25.8)\n",
      "Requirement already satisfied: idna<2.9,>=2.5 in /Users/friedrich/opt/anaconda3/lib/python3.7/site-packages (from requests>=2.0->openrouteservice) (2.8)\n",
      "Note: you may need to restart the kernel to use updated packages.\n"
     ]
    }
   ],
   "source": [
    "pip install openrouteservice\n",
    "pip install geopandas"
   ]
  },
  {
   "cell_type": "code",
   "execution_count": 147,
   "metadata": {},
   "outputs": [],
   "source": [
    "import openrouteservice\n",
    "from openrouteservice import convert\n",
    "import math"
   ]
  },
  {
   "cell_type": "code",
   "execution_count": 141,
   "metadata": {},
   "outputs": [],
   "source": [
    "api_key = '5b3ce3597851110001cf62481c89b887532c460f8be89b37961217d2'\n",
    "\n",
    "POI = [566]\n",
    "coords = (13.403916, 52.548945),(13.426495, 52.467201)\n",
    "\n",
    "def getPOI(coords, api_key, POI):\n",
    "\n",
    "    dic = {}\n",
    "\n",
    "    coords = (coords)\n",
    "    client = openrouteservice.Client(key = api_key)\n",
    "    geometry = client.directions(coords)['routes'][0]['geometry']\n",
    "    poly_json = openrouteservice.convert.decode_polyline(geometry, is3d = False)\n",
    "    answer = openrouteservice.places.places(client, request = \"pois\", geojson = poly_json, buffer = 100, limit = 10, filter_category_ids = POI)\n",
    "    \n",
    "    for i in range(len(answer[\"features\"])):\n",
    "\n",
    "        if \"name\" in answer[\"features\"][i][\"properties\"][\"osm_tags\"].keys():\n",
    "            \n",
    "            dic[answer[\"features\"][i][\"properties\"][\"osm_tags\"][\"name\"]] = [answer[\"features\"][i][\"geometry\"][\"coordinates\"]]\n",
    "        \n",
    "        else:\n",
    "            \n",
    "            dic[i] = [answer[\"features\"][i][\"geometry\"][\"coordinates\"]]\n",
    "        \n",
    "    return dic\n",
    "\n",
    "results_getPOI = getPOI(coords, api_key, POI)"
   ]
  },
  {
   "cell_type": "code",
   "execution_count": 142,
   "metadata": {},
   "outputs": [],
   "source": [
    "for key in results_getPOI.keys():\n",
    "    \n",
    "    stop = tuple(results_getPOI[key][0])\n",
    "    first_route = (coords[0], stop)\n",
    "    seccond_route = (stop, coords[1])\n",
    "    time_first = client.directions(first_route)[\"routes\"][0][\"summary\"][\"duration\"]\n",
    "    results_getPOI[key].append(time_first + client.directions(seccond_route)[\"routes\"][0][\"summary\"][\"duration\"])"
   ]
  },
  {
   "cell_type": "code",
   "execution_count": 169,
   "metadata": {},
   "outputs": [
    {
     "name": "stdout",
     "output_type": "stream",
     "text": [
      "Der beste Zwischenstopp wäre bei Esmen. Der gesamte Weg dauert dadurch 24.60 Minuten und somit 0.0 Minuten länger.\n"
     ]
    }
   ],
   "source": [
    "temp = [math.inf, \"name\"]\n",
    "normal = client.directions(coords)[\"routes\"][0][\"summary\"][\"duration\"]\n",
    "\n",
    "for key in results_getPOI.keys():\n",
    "    \n",
    "    if  temp[0] > results_getPOI[key][1]:\n",
    "        \n",
    "        temp[0] = results_getPOI[key][1]\n",
    "        temp[1] = key\n",
    "        \n",
    "temp\n",
    "\n",
    "diff = temp[0] - normal\n",
    "\n",
    "print(\"Der beste Zwischenstopp wäre bei \", temp[1], \". Der gesamte Weg dauert dadurch \", format(results_getPOI[temp[1]][1]/60, \".2f\"), \" Minuten und somit \", diff, \" Minuten länger.\", sep = \"\")"
   ]
  },
  {
   "cell_type": "code",
   "execution_count": 170,
   "metadata": {},
   "outputs": [
    {
     "ename": "SyntaxError",
     "evalue": "invalid syntax (<ipython-input-170-4105a2552b29>, line 1)",
     "output_type": "error",
     "traceback": [
      "\u001b[0;36m  File \u001b[0;32m\"<ipython-input-170-4105a2552b29>\"\u001b[0;36m, line \u001b[0;32m1\u001b[0m\n\u001b[0;31m    results_getPOI[]\u001b[0m\n\u001b[0m                   ^\u001b[0m\n\u001b[0;31mSyntaxError\u001b[0m\u001b[0;31m:\u001b[0m invalid syntax\n"
     ]
    }
   ],
   "source": [
    "results_getPOI"
   ]
  },
  {
   "cell_type": "code",
   "execution_count": null,
   "metadata": {},
   "outputs": [],
   "source": []
  }
 ],
 "metadata": {
  "kernelspec": {
   "display_name": "Python 3",
   "language": "python",
   "name": "python3"
  },
  "language_info": {
   "codemirror_mode": {
    "name": "ipython",
    "version": 3
   },
   "file_extension": ".py",
   "mimetype": "text/x-python",
   "name": "python",
   "nbconvert_exporter": "python",
   "pygments_lexer": "ipython3",
   "version": "3.7.6"
  }
 },
 "nbformat": 4,
 "nbformat_minor": 4
}
