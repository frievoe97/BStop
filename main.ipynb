{
 "cells": [
  {
   "cell_type": "code",
   "execution_count": 1,
   "metadata": {},
   "outputs": [
    {
     "name": "stdout",
     "output_type": "stream",
     "text": [
      "Requirement already satisfied: openrouteservice in /Users/friedrich/opt/anaconda3/lib/python3.7/site-packages (2.3.0)\n",
      "Requirement already satisfied: requests>=2.0 in /Users/friedrich/opt/anaconda3/lib/python3.7/site-packages (from openrouteservice) (2.22.0)\n",
      "Requirement already satisfied: chardet<3.1.0,>=3.0.2 in /Users/friedrich/opt/anaconda3/lib/python3.7/site-packages (from requests>=2.0->openrouteservice) (3.0.4)\n",
      "Requirement already satisfied: certifi>=2017.4.17 in /Users/friedrich/opt/anaconda3/lib/python3.7/site-packages (from requests>=2.0->openrouteservice) (2019.11.28)\n",
      "Requirement already satisfied: urllib3!=1.25.0,!=1.25.1,<1.26,>=1.21.1 in /Users/friedrich/opt/anaconda3/lib/python3.7/site-packages (from requests>=2.0->openrouteservice) (1.25.8)\n",
      "Requirement already satisfied: idna<2.9,>=2.5 in /Users/friedrich/opt/anaconda3/lib/python3.7/site-packages (from requests>=2.0->openrouteservice) (2.8)\n",
      "Note: you may need to restart the kernel to use updated packages.\n"
     ]
    }
   ],
   "source": [
    "pip install openrouteservice\n",
    "pip install geopandas"
   ]
  },
  {
   "cell_type": "code",
   "execution_count": 1,
   "metadata": {},
   "outputs": [],
   "source": [
    "import openrouteservice\n",
    "from openrouteservice import convert"
   ]
  },
  {
   "cell_type": "code",
   "execution_count": 62,
   "metadata": {},
   "outputs": [],
   "source": [
    "api_key = '5b3ce3597851110001cf62481c89b887532c460f8be89b37961217d2'\n",
    "\n",
    "POI = [566]\n",
    "coords = (13.403916, 52.548945),(13.426495, 52.467201)\n",
    "\n",
    "def getPOI(coords, api_key, POI):\n",
    "\n",
    "    results = []\n",
    "\n",
    "    coords = (coords)\n",
    "    client = openrouteservice.Client(key = api_key)\n",
    "    geometry = client.directions(coords)['routes'][0]['geometry']\n",
    "    poly_json = openrouteservice.convert.decode_polyline(geometry, is3d = False)\n",
    "    answer = openrouteservice.places.places(client, request = \"pois\", geojson = poly_json, buffer = 100, limit = 10, filter_category_ids = POI)\n",
    "    \n",
    "    for i in range(len(answer[\"features\"])):\n",
    "        \n",
    "        dic = {}\n",
    "\n",
    "        if \"name\" in answer[\"features\"][i][\"properties\"][\"osm_tags\"].keys():\n",
    "            \n",
    "            dic[\"name\"] = answer[\"features\"][i][\"properties\"][\"osm_tags\"][\"name\"]\n",
    "        \n",
    "            #results.append(answer[\"features\"][i][\"properties\"][\"osm_tags\"][\"name\"])\n",
    "        \n",
    "        else:\n",
    "            \n",
    "            dic[\"name\"] = \"No Name\"\n",
    "        \n",
    "        dic[\"coordinates\"] = (answer[\"features\"][i][\"geometry\"][\"coordinates\"])\n",
    "\n",
    "        results.append(dic)\n",
    "        \n",
    "    return results\n",
    "\n",
    "results_getPOI = getPOI(coords, api_key, POI)"
   ]
  },
  {
   "cell_type": "code",
   "execution_count": 63,
   "metadata": {},
   "outputs": [
    {
     "data": {
      "text/plain": [
       "[{'name': 'Royal 44', 'coordinates': [13.412553, 52.540496]},\n",
       " {'name': 'Gemüse Kebap', 'coordinates': [13.425517, 52.478738]},\n",
       " {'name': 'Esmen', 'coordinates': [13.42522, 52.479659]},\n",
       " {'name': 'Baran', 'coordinates': [13.423158, 52.490717]},\n",
       " {'name': \"McDonald's\", 'coordinates': [13.424878, 52.486674]},\n",
       " {'name': 'Burger & Curry', 'coordinates': [13.408207, 52.528828]},\n",
       " {'name': 'Puffer-Imbiss', 'coordinates': [13.423678, 52.486715]},\n",
       " {'name': 'Merakli Köfteci', 'coordinates': [13.429598, 52.471098]},\n",
       " {'name': \"K'Ups Gemüse Kebap\", 'coordinates': [13.411306, 52.539823]}]"
      ]
     },
     "execution_count": 63,
     "metadata": {},
     "output_type": "execute_result"
    }
   ],
   "source": [
    "results_getPOI"
   ]
  },
  {
   "cell_type": "code",
   "execution_count": null,
   "metadata": {},
   "outputs": [],
   "source": []
  }
 ],
 "metadata": {
  "kernelspec": {
   "display_name": "Python 3",
   "language": "python",
   "name": "python3"
  },
  "language_info": {
   "codemirror_mode": {
    "name": "ipython",
    "version": 3
   },
   "file_extension": ".py",
   "mimetype": "text/x-python",
   "name": "python",
   "nbconvert_exporter": "python",
   "pygments_lexer": "ipython3",
   "version": "3.7.6"
  }
 },
 "nbformat": 4,
 "nbformat_minor": 4
}
