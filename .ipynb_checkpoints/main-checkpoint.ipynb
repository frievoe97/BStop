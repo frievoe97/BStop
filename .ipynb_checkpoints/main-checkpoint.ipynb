{
 "cells": [
  {
   "cell_type": "code",
   "execution_count": 1,
   "metadata": {},
   "outputs": [
    {
     "name": "stdout",
     "output_type": "stream",
     "text": [
      "Requirement already satisfied: openrouteservice in /Users/friedrich/opt/anaconda3/lib/python3.7/site-packages (2.3.0)\n",
      "Requirement already satisfied: requests>=2.0 in /Users/friedrich/opt/anaconda3/lib/python3.7/site-packages (from openrouteservice) (2.22.0)\n",
      "Requirement already satisfied: chardet<3.1.0,>=3.0.2 in /Users/friedrich/opt/anaconda3/lib/python3.7/site-packages (from requests>=2.0->openrouteservice) (3.0.4)\n",
      "Requirement already satisfied: certifi>=2017.4.17 in /Users/friedrich/opt/anaconda3/lib/python3.7/site-packages (from requests>=2.0->openrouteservice) (2019.11.28)\n",
      "Requirement already satisfied: urllib3!=1.25.0,!=1.25.1,<1.26,>=1.21.1 in /Users/friedrich/opt/anaconda3/lib/python3.7/site-packages (from requests>=2.0->openrouteservice) (1.25.8)\n",
      "Requirement already satisfied: idna<2.9,>=2.5 in /Users/friedrich/opt/anaconda3/lib/python3.7/site-packages (from requests>=2.0->openrouteservice) (2.8)\n",
      "Note: you may need to restart the kernel to use updated packages.\n"
     ]
    }
   ],
   "source": [
    "pip install openrouteservice\n",
    "pip install geopandas"
   ]
  },
  {
   "cell_type": "code",
   "execution_count": 1,
   "metadata": {},
   "outputs": [],
   "source": [
    "import openrouteservice\n",
    "from openrouteservice import convert\n",
    "#import numpy as np\n",
    "#import pandas as pd\n",
    "#import matplotlib.pyplot as plt\n",
    "#from shapely.geometry import MultiLineString, LineString, Polygon\n",
    "#from shapely import ops, affinity\n",
    "#import geopandas as gpd"
   ]
  },
  {
   "cell_type": "code",
   "execution_count": 45,
   "metadata": {},
   "outputs": [
    {
     "name": "stdout",
     "output_type": "stream",
     "text": [
      "Royal 44\n",
      "[13.412553, 52.540496]\n",
      "Gemüse Kebap\n",
      "[13.425517, 52.478738]\n",
      "Esmen\n",
      "[13.42522, 52.479659]\n",
      "Baran\n",
      "[13.423158, 52.490717]\n",
      "McDonald's\n",
      "[13.424878, 52.486674]\n",
      "Burger & Curry\n",
      "[13.408207, 52.528828]\n",
      "Puffer-Imbiss\n",
      "[13.423678, 52.486715]\n",
      "Merakli Köfteci\n",
      "[13.429598, 52.471098]\n",
      "K'Ups Gemüse Kebap\n",
      "[13.411306, 52.539823]\n"
     ]
    }
   ],
   "source": [
    "coords = ((13.403916, 52.548945),(13.426495, 52.467201))\n",
    "client = openrouteservice.Client(key='5b3ce3597851110001cf62481c89b887532c460f8be89b37961217d2') # Specify your personal API key\n",
    "geometry = client.directions(coords)['routes'][0]['geometry']\n",
    "poly_json = openrouteservice.convert.decode_polyline(geometry, is3d=False)\n",
    "answer = openrouteservice.places.places(client, request = \"pois\", geojson = poly_json, buffer = 100, limit = 10, filter_category_ids = [566])\n",
    "\n",
    "for i in range(len(answer[\"features\"])):\n",
    "\n",
    "    if \"name\" in answer[\"features\"][i][\"properties\"][\"osm_tags\"].keys():\n",
    "        \n",
    "        print(answer[\"features\"][i][\"properties\"][\"osm_tags\"][\"name\"])\n",
    "\n",
    "    print(answer[\"features\"][i][\"geometry\"][\"coordinates\"])\n",
    "    \n",
    "#answer[\"features\"]\n",
    "\n",
    "#answer"
   ]
  },
  {
   "cell_type": "code",
   "execution_count": null,
   "metadata": {},
   "outputs": [],
   "source": []
  }
 ],
 "metadata": {
  "kernelspec": {
   "display_name": "Python 3",
   "language": "python",
   "name": "python3"
  },
  "language_info": {
   "codemirror_mode": {
    "name": "ipython",
    "version": 3
   },
   "file_extension": ".py",
   "mimetype": "text/x-python",
   "name": "python",
   "nbconvert_exporter": "python",
   "pygments_lexer": "ipython3",
   "version": "3.7.6"
  }
 },
 "nbformat": 4,
 "nbformat_minor": 4
}
